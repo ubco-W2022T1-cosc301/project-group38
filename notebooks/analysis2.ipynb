{
 "cells": [
  {
   "cell_type": "markdown",
   "metadata": {},
   "source": [
    "# Abhiek Bist"
   ]
  },
  {
   "cell_type": "code",
   "execution_count": 1,
   "metadata": {
    "jp-MarkdownHeadingCollapsed": true,
    "tags": []
   },
   "outputs": [
    {
     "ename": "SyntaxError",
     "evalue": "invalid syntax (878417617.py, line 3)",
     "output_type": "error",
     "traceback": [
      "\u001b[0;36m  Cell \u001b[0;32mIn [1], line 3\u001b[0;36m\u001b[0m\n\u001b[0;31m    Briefly describe your research question or interests here.\u001b[0m\n\u001b[0m            ^\u001b[0m\n\u001b[0;31mSyntaxError\u001b[0m\u001b[0;31m:\u001b[0m invalid syntax\n"
     ]
    }
   ],
   "source": [
    "## Research question/interests\n",
    "\n",
    "Briefly describe your research question or interests here."
   ]
  },
  {
   "cell_type": "code",
   "execution_count": 2,
   "metadata": {},
   "outputs": [],
   "source": [
    "import numpy as np\n",
    "import pandas as pd \n"
   ]
  },
  {
   "cell_type": "code",
   "execution_count": 3,
   "metadata": {},
   "outputs": [
    {
     "data": {
      "text/html": [
       "<div>\n",
       "<style scoped>\n",
       "    .dataframe tbody tr th:only-of-type {\n",
       "        vertical-align: middle;\n",
       "    }\n",
       "\n",
       "    .dataframe tbody tr th {\n",
       "        vertical-align: top;\n",
       "    }\n",
       "\n",
       "    .dataframe thead th {\n",
       "        text-align: right;\n",
       "    }\n",
       "</style>\n",
       "<table border=\"1\" class=\"dataframe\">\n",
       "  <thead>\n",
       "    <tr style=\"text-align: right;\">\n",
       "      <th></th>\n",
       "      <th></th>\n",
       "      <th></th>\n",
       "      <th></th>\n",
       "      <th></th>\n",
       "      <th>Date;Time;CO(GT);PT08.S1(CO);NMHC(GT);C6H6(GT);PT08.S2(NMHC);NOx(GT);PT08.S3(NOx);NO2(GT);PT08.S4(NO2);PT08.S5(O3);T;RH;AH;;</th>\n",
       "    </tr>\n",
       "  </thead>\n",
       "  <tbody>\n",
       "    <tr>\n",
       "      <th>10/03/2004;18.00.00;2</th>\n",
       "      <th>6;1360;150;11</th>\n",
       "      <th>9;1046;166;1056;113;1692;1268;13</th>\n",
       "      <th>6;48</th>\n",
       "      <th>9;0</th>\n",
       "      <td>7578;;</td>\n",
       "    </tr>\n",
       "    <tr>\n",
       "      <th>10/03/2004;19.00.00;2;1292;112;9</th>\n",
       "      <th>4;955;103;1174;92;1559;972;13</th>\n",
       "      <th>3;47</th>\n",
       "      <th>7;0</th>\n",
       "      <th>7255;;</th>\n",
       "      <td>NaN</td>\n",
       "    </tr>\n",
       "    <tr>\n",
       "      <th>10/03/2004;20.00.00;2</th>\n",
       "      <th>2;1402;88;9</th>\n",
       "      <th>0;939;131;1140;114;1555;1074;11</th>\n",
       "      <th>9;54</th>\n",
       "      <th>0;0</th>\n",
       "      <td>7502;;</td>\n",
       "    </tr>\n",
       "    <tr>\n",
       "      <th>10/03/2004;21.00.00;2</th>\n",
       "      <th>2;1376;80;9</th>\n",
       "      <th>2;948;172;1092;122;1584;1203;11</th>\n",
       "      <th>0;60</th>\n",
       "      <th>0;0</th>\n",
       "      <td>7867;;</td>\n",
       "    </tr>\n",
       "    <tr>\n",
       "      <th>10/03/2004;22.00.00;1</th>\n",
       "      <th>6;1272;51;6</th>\n",
       "      <th>5;836;131;1205;116;1490;1110;11</th>\n",
       "      <th>2;59</th>\n",
       "      <th>6;0</th>\n",
       "      <td>7888;;</td>\n",
       "    </tr>\n",
       "    <tr>\n",
       "      <th>...</th>\n",
       "      <th>...</th>\n",
       "      <th>...</th>\n",
       "      <th>...</th>\n",
       "      <th>...</th>\n",
       "      <td>...</td>\n",
       "    </tr>\n",
       "    <tr>\n",
       "      <th rowspan=\"5\" valign=\"top\">;;;;;;;;;;;;;;;;</th>\n",
       "      <th rowspan=\"5\" valign=\"top\">NaN</th>\n",
       "      <th rowspan=\"5\" valign=\"top\">NaN</th>\n",
       "      <th rowspan=\"5\" valign=\"top\">NaN</th>\n",
       "      <th>NaN</th>\n",
       "      <td>NaN</td>\n",
       "    </tr>\n",
       "    <tr>\n",
       "      <th>NaN</th>\n",
       "      <td>NaN</td>\n",
       "    </tr>\n",
       "    <tr>\n",
       "      <th>NaN</th>\n",
       "      <td>NaN</td>\n",
       "    </tr>\n",
       "    <tr>\n",
       "      <th>NaN</th>\n",
       "      <td>NaN</td>\n",
       "    </tr>\n",
       "    <tr>\n",
       "      <th>NaN</th>\n",
       "      <td>NaN</td>\n",
       "    </tr>\n",
       "  </tbody>\n",
       "</table>\n",
       "<p>9471 rows × 1 columns</p>\n",
       "</div>"
      ],
      "text/plain": [
       "                                                                                                            Date;Time;CO(GT);PT08.S1(CO);NMHC(GT);C6H6(GT);PT08.S2(NMHC);NOx(GT);PT08.S3(NOx);NO2(GT);PT08.S4(NO2);PT08.S5(O3);T;RH;AH;;\n",
       "10/03/2004;18.00.00;2            6;1360;150;11                 9;1046;166;1056;113;1692;1268;13 6;48 9;0                                                7578;;                                                                          \n",
       "10/03/2004;19.00.00;2;1292;112;9 4;955;103;1174;92;1559;972;13 3;47                             7;0  7255;;                                                NaN                                                                          \n",
       "10/03/2004;20.00.00;2            2;1402;88;9                   0;939;131;1140;114;1555;1074;11  9;54 0;0                                                7502;;                                                                          \n",
       "10/03/2004;21.00.00;2            2;1376;80;9                   2;948;172;1092;122;1584;1203;11  0;60 0;0                                                7867;;                                                                          \n",
       "10/03/2004;22.00.00;1            6;1272;51;6                   5;836;131;1205;116;1490;1110;11  2;59 6;0                                                7888;;                                                                          \n",
       "...                                                                                                                                                        ...                                                                          \n",
       ";;;;;;;;;;;;;;;;                 NaN                           NaN                              NaN  NaN                                                   NaN                                                                          \n",
       "                                                                                                     NaN                                                   NaN                                                                          \n",
       "                                                                                                     NaN                                                   NaN                                                                          \n",
       "                                                                                                     NaN                                                   NaN                                                                          \n",
       "                                                                                                     NaN                                                   NaN                                                                          \n",
       "\n",
       "[9471 rows x 1 columns]"
      ]
     },
     "execution_count": 3,
     "metadata": {},
     "output_type": "execute_result"
    }
   ],
   "source": [
    "pd.read_csv(\"../data/raw/AirQuality.csv\")"
   ]
  },
  {
   "cell_type": "code",
   "execution_count": 4,
   "metadata": {},
   "outputs": [],
   "source": [
    "airItaly = pd.read_csv(\"../data/raw/AirQuality.csv\")"
   ]
  },
  {
   "cell_type": "code",
   "execution_count": null,
   "metadata": {},
   "outputs": [],
   "source": []
  }
 ],
 "metadata": {
  "kernelspec": {
   "display_name": "Python 3 (ipykernel)",
   "language": "python",
   "name": "python3"
  },
  "language_info": {
   "codemirror_mode": {
    "name": "ipython",
    "version": 3
   },
   "file_extension": ".py",
   "mimetype": "text/x-python",
   "name": "python",
   "nbconvert_exporter": "python",
   "pygments_lexer": "ipython3",
   "version": "3.9.12"
  }
 },
 "nbformat": 4,
 "nbformat_minor": 4
}
